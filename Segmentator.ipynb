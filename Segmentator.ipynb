{
 "cells": [
  {
   "cell_type": "code",
   "execution_count": 90,
   "metadata": {},
   "outputs": [],
   "source": [
    "import string\n",
    "import numpy as np"
   ]
  },
  {
   "cell_type": "code",
   "execution_count": 304,
   "metadata": {},
   "outputs": [],
   "source": [
    "class Segmentator:\n",
    "    def __init__(self, lexicon=None):\n",
    "        self.load_lexicon(lexicon)\n",
    "    \n",
    "    def load_lexicon(self, lexicon):\n",
    "        for i in range(len(lexicon)):\n",
    "            lexicon[i] = np.array(lexicon[i].split())\n",
    "        self.lexicon = lexicon\n",
    "        \n",
    "    def segment(self, text):\n",
    "        text = self._save_breaked_words(text)\n",
    "        segments = text.split()\n",
    "        self._split_punctuation(segments)\n",
    "        self._use_lexicon(segments)\n",
    "        self._add_eos(segments)\n",
    "        return segments\n",
    "        \n",
    "    def _save_breaked_words(self, text):\n",
    "        return text.replace('-\\n', '')\n",
    "    \n",
    "    def _split_punctuation(self, segments):\n",
    "        for i in reversed(range(len(segments))):\n",
    "            if segments[i][-1] in string.punctuation:\n",
    "                segments.insert(i+1, segments[i][-1])\n",
    "                segments[i] = segments[i][:-1]\n",
    "                \n",
    "    def _add_eos(self, segments):\n",
    "        segments.append(\"<eos>\")\n",
    "        for i in reversed(range(len(segments)-1)):\n",
    "            if segments[i][-1] in [\".\", \"!\", \"?\"] and segments[i+1][0].isupper():\n",
    "                segments.insert(i+1, \"<eos>\")\n",
    "    \n",
    "    def _use_lexicon(self, segments):\n",
    "        wholes = self._get_wholes(segments)\n",
    "        for i in reversed(range(len(wholes))):\n",
    "            segments[wholes[i][0]] = wholes[i][2]\n",
    "            del segments[wholes[i][0]+1:wholes[i][1]+1]\n",
    "    \n",
    "    def _get_wholes(self, segments):\n",
    "      # _get_całostki\n",
    "        segments_to_concat = []\n",
    "        for lex in self.lexicon:\n",
    "            indices = [i for i, x in enumerate(segments) if x == lex[0]]\n",
    "            for inx in indices:\n",
    "                if inx + len(lex) < len(segments):\n",
    "                    concat = True\n",
    "                    for j in range(len(lex)):\n",
    "                        if lex[j] != segments[inx + j]:\n",
    "                            concat = False\n",
    "                            break\n",
    "                    if concat is True:\n",
    "                        whole = \"\"\n",
    "                        for l in lex:\n",
    "                            whole += l + \" \"\n",
    "                        segments_to_concat.append([inx, inx+len(lex)-1, whole])\n",
    "        return segments_to_concat\n",
    "    \n",
    "    def print_segments(self, segments):\n",
    "        for s in segments:\n",
    "            print(s)\n"
   ]
  },
  {
   "cell_type": "code",
   "execution_count": 305,
   "metadata": {},
   "outputs": [
    {
     "name": "stdout",
     "output_type": "stream",
     "text": [
      "Woda-jest jedną wody jest z najpospolitszych substancji we Wszechświe-\n",
      "cie. \n",
      "          Cząsteczka wody jest trzecią najbardziej rozpowszechnioną molekułą \n",
      "          w ośrodku międzygwiazdowym, po cząsteczkowym wodorze i tlenku węgla.\n"
     ]
    }
   ],
   "source": [
    "text = \"\"\"Woda-jest jedną wody jest z najpospolitszych substancji we Wszechświe-\\ncie. \n",
    "          Cząsteczka wody jest trzecią najbardziej rozpowszechnioną molekułą \n",
    "          w ośrodku międzygwiazdowym, po cząsteczkowym wodorze i tlenku węgla.\"\"\"\n",
    "lexicon = [\"najbardziej rozpowszechnioną\", \"po cząsteczkowym wodorze\", \"wody jest\"]\n",
    "print(text)"
   ]
  },
  {
   "cell_type": "code",
   "execution_count": 306,
   "metadata": {},
   "outputs": [
    {
     "name": "stdout",
     "output_type": "stream",
     "text": [
      "Woda-jest\n",
      "jedną\n",
      "wody jest \n",
      "z\n",
      "najpospolitszych\n",
      "substancji\n",
      "we\n",
      "Wszechświecie\n",
      ".\n",
      "<eos>\n",
      "Cząsteczka\n",
      "wody jest \n",
      "trzecią\n",
      "najbardziej\n",
      "rozpowszechnioną\n",
      "najbardziej rozpowszechnioną \n",
      "ośrodku\n",
      "międzygwiazdowym\n",
      ",\n",
      "po\n",
      "cząsteczkowym\n",
      "po cząsteczkowym wodorze \n",
      "węgla\n",
      ".\n",
      "<eos>\n"
     ]
    }
   ],
   "source": [
    "segmentator = Segmentator(lexicon)\n",
    "segments = segmentator.segment(text)\n",
    "segmentator.print_segments(segments)"
   ]
  },
  {
   "cell_type": "code",
   "execution_count": null,
   "metadata": {},
   "outputs": [],
   "source": []
  }
 ],
 "metadata": {
  "kernelspec": {
   "display_name": "Python 3",
   "language": "python",
   "name": "python3"
  },
  "language_info": {
   "codemirror_mode": {
    "name": "ipython",
    "version": 3
   },
   "file_extension": ".py",
   "mimetype": "text/x-python",
   "name": "python",
   "nbconvert_exporter": "python",
   "pygments_lexer": "ipython3",
   "version": "3.7.6"
  }
 },
 "nbformat": 4,
 "nbformat_minor": 4
}
