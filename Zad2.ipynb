{
 "cells": [
  {
   "cell_type": "markdown",
   "metadata": {
    "id": "ZgqK-K-HEkqv"
   },
   "source": [
    "Zadanie 2  \n",
    "Zapoznanie się z analizatorem morfologicznym Morfeusz i zwracanym przez niego tagsetem. Można wykorzystać usługę sieciową CLARIN-PL udostępniającą Morfeusza.2  \n",
    "  \n",
    "notebook wzorowany na poniższym tutorialu korzystania z CLARIN-PL z wykorzystaniem pythona:"
   ]
  },
  {
   "cell_type": "code",
   "execution_count": 2,
   "metadata": {
    "id": "hGiPxY_GEeCW"
   },
   "outputs": [],
   "source": [
    "#https://colab.research.google.com/github/CLARIN-PL/NlpRest2-Tutorials/blob/master/agenda.ipynb\n",
    "#ten notebook → https://colab.research.google.com/github/CLARIN-PL/NlpRest2-Tutorials/blob/master/part1.ipynb\n",
    "#https://colab.research.google.com/github/CLARIN-PL/NlpRest2-Tutorials/blob/master/part2.ipynb\n",
    "#https://colab.research.google.com/github/CLARIN-PL/NlpRest2-Tutorials/blob/master/part3.ipynb"
   ]
  },
  {
   "cell_type": "markdown",
   "metadata": {
    "id": "WBRB8alYFZky"
   },
   "source": [
    "Słownik mapujący tagi na wybrane części mowy.  \n",
    "Do jego utworzenia wykorzystano informacje zawarte pod adresem: http://nkjp.pl/poliqarp/help/plse2.html"
   ]
  },
  {
   "cell_type": "code",
   "execution_count": 3,
   "metadata": {
    "id": "ENeABA9REeC3",
    "jupyter": {
     "source_hidden": true
    }
   },
   "outputs": [],
   "source": [
    "gram_mapper = {\n",
    "'subst':  'rzecz',\n",
    "'depr':   'rzecz',\n",
    "'num':    'rzecz',\n",
    "'numcol': 'rzecz',\n",
    "'adj':    'przym',\n",
    "'adja':   'przym',\n",
    "'adjp':   'przym',\n",
    "'adjc':   'przym',\n",
    "'adv':    'przys',\n",
    "'ppron12':'rzecz',\n",
    "'ppron3': 'rzecz',\n",
    "'siebie': 'rzecz',\n",
    "'fin':    'czas',\n",
    "'bedzie': 'czas',\n",
    "'aglt':   'czas',\n",
    "'praet':  'czas',\n",
    "'impt':   'czas',\n",
    "'imps':   'czas',\n",
    "'inf':    'czas',\n",
    "'pcon':   'czas',\n",
    "'pant':   'czas',\n",
    "'ger':    'czas',\n",
    "'pact':   'czas',\n",
    "'ppas':   'czas',\n",
    "'winien': '?',\n",
    "'pred':   '?',\n",
    "'prep':   '?',\n",
    "'conj':   '?',\n",
    "'comp':   '?',\n",
    "'qub':    '?',\n",
    "'brev':   '?',\n",
    "'burk':   '?',\n",
    "'interj': '?',\n",
    "'interp': '?',\n",
    "'xxx':    '?',\n",
    "'ign':    '?',\n",
    "}"
   ]
  },
  {
   "cell_type": "markdown",
   "metadata": {
    "id": "wfnOxNOTFbz2"
   },
   "source": [
    "Połączenie z usługą Clarin (kod bazujący na tutorialu)"
   ]
  },
  {
   "cell_type": "code",
   "execution_count": 4,
   "metadata": {
    "id": "fH-2f-NgEeCo"
   },
   "outputs": [],
   "source": [
    "import json\n",
    "import requests\n",
    "\n",
    "clarinpl_url = \"http://ws.clarin-pl.eu/nlprest2/base\"\n",
    "user_mail = \"demo2019@nlpday.pl\""
   ]
  },
  {
   "cell_type": "code",
   "execution_count": 5,
   "metadata": {
    "colab": {
     "base_uri": "https://localhost:8080/"
    },
    "id": "61QE6FKrIXUf",
    "outputId": "78413533-45f9-4ba1-c529-6ff8faff5aac"
   },
   "outputs": [
    {
     "name": "stdout",
     "output_type": "stream",
     "text": [
      "<?xml version=\"1.0\" encoding=\"UTF-8\"?>\n",
      "<!DOCTYPE chunkList SYSTEM \"ccl.dtd\">\n",
      "<chunkList>\n",
      " <chunk id=\"ch1\">\n",
      "  <sentence id=\"s1\">\n",
      "   <tok>\n",
      "    <orth>Na</orth>\n",
      "    <lex><base>na:i</base><ctag>interj</ctag></lex>\n",
      "    <lex><base>na:p</base><ctag>prep:acc</ctag></lex>\n",
      "    <lex><base>na:p</base><ctag>prep:loc</ctag></lex>\n",
      "   </tok>\n",
      "   <tok>\n",
      "    <orth>płocie</orth>\n",
      "    <lex><base>płot</base><ctag>subst:sg:loc:m3</ctag></lex>\n",
      "    <lex><base>płot</base><ctag>subst:sg:voc:m3</ctag></lex>\n",
      "    <lex><base>płoć</base><ctag>subst:pl:nom:f</ctag></lex>\n",
      "    <lex><base>płoć</base><ctag>subst:pl:acc:f</ctag></lex>\n",
      "    <lex><base>płoć</base><ctag>subst:pl:voc:f</ctag></lex>\n",
      "   </tok>\n",
      "   <tok>\n",
      "    <orth>siedzi</orth>\n",
      "    <lex><base>siedzieć</base><ctag>fin:sg:ter:imperf</ctag></lex>\n",
      "   </tok>\n",
      "   <tok>\n",
      "    <orth>kot</orth>\n",
      "    <lex><base>kot:s1</base><ctag>subst:sg:nom:m2</ctag></lex>\n",
      "    <lex><base>kot:s2</base><ctag>subst:sg:nom:m1</ctag></lex>\n",
      "    <lex><base>kota</base><ctag>subst:pl:gen:f</ctag></lex>\n",
      "   </tok>\n",
      "   <ns/>\n",
      "   <tok>\n",
      "    <orth>.</orth>\n",
      "    <lex><base>.</base><ctag>interp</ctag></lex>\n",
      "   </tok>\n",
      "  </sentence>\n",
      " </chunk>\n",
      "</chunkList>\n",
      "\n"
     ]
    }
   ],
   "source": [
    "url = clarinpl_url + \"/process\"\n",
    "lpmn = \"any2txt|maca\" # morpho\n",
    "text = \"Na płocie siedzi kot.\"\n",
    "\n",
    "payload = {'text': text, 'lpmn': lpmn, 'user': user_mail}\n",
    "headers = {'content-type': 'application/json'}\n",
    "r = requests.post(url, data=json.dumps(payload), headers=headers)\n",
    "ccl = r.content.decode('utf-8')\n",
    "print(ccl)"
   ]
  },
  {
   "cell_type": "markdown",
   "metadata": {
    "id": "_9YlokLwIpn1"
   },
   "source": [
    "Analiza morfologiczna zwraca nam potencjalne tagi. W przypadku narzędzi CLARIN wynik dostajemy w formacie XML. Sprawdźmy również działanie tagera, gdyż potrzebny on będzie w dalszych zadaniach:"
   ]
  },
  {
   "cell_type": "code",
   "execution_count": 6,
   "metadata": {
    "id": "tWiHN0q4EeDC"
   },
   "outputs": [],
   "source": [
    "url = clarinpl_url + \"/process\"\n",
    "lpmn = \"wcrft2\" #tag\n",
    "# lpmn = \"any2txt|maca\" # morpho\n",
    "text = \"Na płocie siedzi kot.\"\n",
    "\n",
    "payload = {'text': text, 'lpmn': lpmn, 'user': user_mail}\n",
    "headers = {'content-type': 'application/json'}"
   ]
  },
  {
   "cell_type": "code",
   "execution_count": 7,
   "metadata": {
    "colab": {
     "base_uri": "https://localhost:8080/"
    },
    "id": "cU5RhyXQEeDM",
    "outputId": "17d8ab6c-b6da-49fb-9f4f-a87e1ba621db"
   },
   "outputs": [
    {
     "name": "stdout",
     "output_type": "stream",
     "text": [
      "<?xml version=\"1.0\" encoding=\"UTF-8\"?>\n",
      "<!DOCTYPE chunkList SYSTEM \"ccl.dtd\">\n",
      "<chunkList>\n",
      " <chunk id=\"ch1\" type=\"p\">\n",
      "  <sentence id=\"s1\">\n",
      "   <tok>\n",
      "    <orth>Na</orth>\n",
      "    <lex disamb=\"1\"><base>na</base><ctag>prep:acc</ctag></lex>\n",
      "   </tok>\n",
      "   <tok>\n",
      "    <orth>płocie</orth>\n",
      "    <lex disamb=\"1\"><base>płot</base><ctag>subst:sg:loc:m3</ctag></lex>\n",
      "   </tok>\n",
      "   <tok>\n",
      "    <orth>siedzi</orth>\n",
      "    <lex disamb=\"1\"><base>siedzieć</base><ctag>fin:sg:ter:imperf</ctag></lex>\n",
      "   </tok>\n",
      "   <tok>\n",
      "    <orth>kot</orth>\n",
      "    <lex disamb=\"1\"><base>kot</base><ctag>subst:sg:nom:m1</ctag></lex>\n",
      "   </tok>\n",
      "   <ns/>\n",
      "   <tok>\n",
      "    <orth>.</orth>\n",
      "    <lex disamb=\"1\"><base>.</base><ctag>interp</ctag></lex>\n",
      "   </tok>\n",
      "  </sentence>\n",
      " </chunk>\n",
      "</chunkList>\n",
      "\n"
     ]
    }
   ],
   "source": [
    "r = requests.post(url, data=json.dumps(payload), headers=headers)\n",
    "ccl = r.content.decode('utf-8')\n",
    "print(ccl)"
   ]
  },
  {
   "cell_type": "markdown",
   "metadata": {
    "id": "Mjcjuf-wGQFF"
   },
   "source": [
    "Potrafimy już przekształcić tekst w potencjalne tagi (analiza morfologiczna).  \n",
    "Poniżej przykłady ekstrakcji poszczególnych interesujących nas znaczników:"
   ]
  },
  {
   "cell_type": "code",
   "execution_count": 8,
   "metadata": {
    "colab": {
     "base_uri": "https://localhost:8080/"
    },
    "id": "dnT0XV3MEeDa",
    "outputId": "e4967e14-f697-4f6d-90ab-4144c3caecb4"
   },
   "outputs": [
    {
     "name": "stdout",
     "output_type": "stream",
     "text": [
      "['Na', 'płocie', 'siedzi', 'kot', '.']\n"
     ]
    }
   ],
   "source": [
    "import xml.etree.ElementTree as ET\n",
    "\n",
    "def ccl_orths(ccl):\n",
    "    tree = ET.fromstring(ccl)\n",
    "    return [orth.text for orth in tree.iter('orth')]\n",
    "\n",
    "orths = ccl_orths(ccl)\n",
    "\n",
    "print(orths)\n"
   ]
  },
  {
   "cell_type": "code",
   "execution_count": 9,
   "metadata": {
    "colab": {
     "base_uri": "https://localhost:8080/"
    },
    "id": "rtzayVTdEeDm",
    "outputId": "0f54ebc4-459a-4c38-da0a-47cd76c35c15"
   },
   "outputs": [
    {
     "name": "stdout",
     "output_type": "stream",
     "text": [
      "['na', 'płot', 'siedzieć', 'kot', '.']\n"
     ]
    }
   ],
   "source": [
    "def ccl_bases(ccl):\n",
    "    tree = ET.fromstring(ccl)\n",
    "    return [tok.find('./lex/base').text for tok in tree.iter('tok')]\n",
    "\n",
    "bases = ccl_bases(ccl)\n",
    "    \n",
    "print(bases)"
   ]
  },
  {
   "cell_type": "code",
   "execution_count": 10,
   "metadata": {
    "colab": {
     "base_uri": "https://localhost:8080/"
    },
    "id": "8vVyguY2EeDu",
    "outputId": "cbc9706f-c142-49d0-d418-ce14357ede0d"
   },
   "outputs": [
    {
     "name": "stdout",
     "output_type": "stream",
     "text": [
      "['prep', 'subst', 'fin', 'subst', 'interp']\n"
     ]
    }
   ],
   "source": [
    "def ccl_poses(ccl):\n",
    "    tree = ET.fromstring(ccl)\n",
    "    return [tok.find('./lex/ctag').text.split(\":\")[0] for tok in tree.iter('tok')]\n",
    "\n",
    "poses = ccl_poses(ccl)\n",
    "\n",
    "print(poses)"
   ]
  },
  {
   "cell_type": "code",
   "execution_count": 11,
   "metadata": {
    "colab": {
     "base_uri": "https://localhost:8080/"
    },
    "id": "Rzl42B_UEeD2",
    "outputId": "93e4309f-d9aa-4f61-e712-e2cd90b57230"
   },
   "outputs": [
    {
     "name": "stdout",
     "output_type": "stream",
     "text": [
      "['?', 'rzecz', 'czas', 'rzecz', '?']\n"
     ]
    }
   ],
   "source": [
    "def ccl_simple_grammar(ccl):\n",
    "    tags = ccl_poses(ccl)\n",
    "    return [gram_mapper[w] for w in tags]\n",
    "\n",
    "simple_grammar = ccl_simple_grammar(ccl)\n",
    "\n",
    "print(simple_grammar)"
   ]
  },
  {
   "cell_type": "markdown",
   "metadata": {
    "id": "9oCFvdgIEeD-"
   },
   "source": [
    "Potrafimy już przekształcić tekst na kolejne części mowy.\n",
    "\n",
    "Poniżej eksperymentujemy z wykrywaniem nazw własnych"
   ]
  },
  {
   "cell_type": "code",
   "execution_count": 12,
   "metadata": {
    "id": "OrKBhqxDEeEA"
   },
   "outputs": [],
   "source": [
    "url = clarinpl_url + \"/process\"\n",
    "#lpmn = 'wcrft2'\n",
    "lpmn = \"wcrft2|liner2\"\n",
    "text = \"Tony Halik przyszedł na świat w Toruniu\"\n",
    "\n",
    "payload = {'text': text, 'lpmn': lpmn, 'user': user_mail}\n",
    "headers = {'content-type': 'application/json'}"
   ]
  },
  {
   "cell_type": "code",
   "execution_count": 13,
   "metadata": {
    "colab": {
     "base_uri": "https://localhost:8080/"
    },
    "id": "bJJGQp70EeEI",
    "outputId": "82b14260-c5ab-4167-cf18-d98bddfb0f31"
   },
   "outputs": [
    {
     "name": "stdout",
     "output_type": "stream",
     "text": [
      "<?xml version=\"1.0\" encoding=\"UTF-8\"?>\n",
      "<!DOCTYPE chunkList SYSTEM \"ccl.dtd\">\n",
      "<chunkList>\n",
      " <chunk type=\"p\" id=\"ch1\">\n",
      "  <sentence id=\"s1\">\n",
      "   <tok>\n",
      "    <orth>Tony</orth>\n",
      "    <lex disamb=\"1\"><base>ton</base><ctag>subst:pl:nom:m3</ctag></lex>\n",
      "    <ann chan=\"nam\" head=\"1\">1</ann>\n",
      "   </tok>\n",
      "   <tok>\n",
      "    <orth>Halik</orth>\n",
      "    <lex disamb=\"1\"><base>Halik</base><ctag>ign</ctag></lex>\n",
      "    <ann chan=\"nam\">1</ann>\n",
      "   </tok>\n",
      "   <tok>\n",
      "    <orth>przyszedł</orth>\n",
      "    <lex disamb=\"1\"><base>przyjść</base><ctag>praet:sg:m1:perf</ctag></lex>\n",
      "    <ann chan=\"nam\">0</ann>\n",
      "   </tok>\n",
      "   <tok>\n",
      "    <orth>na</orth>\n",
      "    <lex disamb=\"1\"><base>na</base><ctag>prep:acc</ctag></lex>\n",
      "    <ann chan=\"nam\">0</ann>\n",
      "   </tok>\n",
      "   <tok>\n",
      "    <orth>świat</orth>\n",
      "    <lex disamb=\"1\"><base>świat</base><ctag>subst:sg:nom:m3</ctag></lex>\n",
      "    <ann chan=\"nam\">0</ann>\n",
      "   </tok>\n",
      "   <tok>\n",
      "    <orth>w</orth>\n",
      "    <lex disamb=\"1\"><base>w</base><ctag>prep:acc:nwok</ctag></lex>\n",
      "    <ann chan=\"nam\">0</ann>\n",
      "   </tok>\n",
      "   <tok>\n",
      "    <orth>Toruniu</orth>\n",
      "    <lex disamb=\"1\"><base>Toruń</base><ctag>subst:sg:loc:m3</ctag></lex>\n",
      "    <ann chan=\"nam\" head=\"1\">2</ann>\n",
      "   </tok>\n",
      "  </sentence>\n",
      " </chunk>\n",
      "</chunkList>\n"
     ]
    }
   ],
   "source": [
    "r = requests.post(url, data=json.dumps(payload), headers=headers)\n",
    "print(r.content.decode('utf-8'))"
   ]
  },
  {
   "cell_type": "code",
   "execution_count": null,
   "metadata": {
    "id": "caV6b76pJOEE"
   },
   "outputs": [],
   "source": []
  }
 ],
 "metadata": {
  "colab": {
   "name": "Zad2.ipynb",
   "provenance": []
  },
  "kernelspec": {
   "display_name": "Python 3",
   "language": "python",
   "name": "python3"
  },
  "language_info": {
   "codemirror_mode": {
    "name": "ipython",
    "version": 3
   },
   "file_extension": ".py",
   "mimetype": "text/x-python",
   "name": "python",
   "nbconvert_exporter": "python",
   "pygments_lexer": "ipython3",
   "version": "3.7.6"
  }
 },
 "nbformat": 4,
 "nbformat_minor": 1
}
