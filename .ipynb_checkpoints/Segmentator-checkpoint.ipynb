{
 "cells": [
  {
   "cell_type": "code",
   "execution_count": 6,
   "metadata": {},
   "outputs": [],
   "source": [
    "class Segmentator:\n",
    "    def __init__(self, text, lexicon=None):\n",
    "        self.text = text\n",
    "        self.lexicon = lexicon\n",
    "        \n",
    "    def segment(self):\n",
    "        self.segments = self.text.split()\n",
    "        for i in range(len(self.segments) - 1):\n",
    "            if self.segments[i] in \n",
    "        eos_list = []\n",
    "        for i in range(len(self.segments) - 1):\n",
    "            if self.segments[i][-1] in [\".\", \"!\", \"?\"] and self.segments[i+1][0].isupper(): \n",
    "                eos_list.append(i+1)\n",
    "        eos_list.append(len(self.segments))\n",
    "        for eos in reversed(eos_list):\n",
    "            self.segments.insert(eos, '<eos>')\n",
    "    \n",
    "    def print(self):\n",
    "        for s in self.segments:\n",
    "            print(s)\n",
    "            "
   ]
  },
  {
   "cell_type": "code",
   "execution_count": 8,
   "metadata": {},
   "outputs": [],
   "source": [
    "text = \"\"\"Woda-jest jedną z najpospolitszych substancji we Wszechświecie. \n",
    "          Cząsteczka wody jest trzecią najbardziej rozpowszechnioną molekułą \n",
    "          w ośrodku międzygwiazdowym, po cząsteczkowym wodorze i tlenku węgla.\"\"\"\n",
    "lexicon = [[\"we Wszechświecie\"]]"
   ]
  },
  {
   "cell_type": "code",
   "execution_count": 9,
   "metadata": {},
   "outputs": [
    {
     "name": "stdout",
     "output_type": "stream",
     "text": [
      "Woda-jest\n",
      "jedną\n",
      "z\n",
      "najpospolitszych\n",
      "substancji\n",
      "we\n",
      "Wszechświecie.\n",
      "<eos>\n",
      "Cząsteczka\n",
      "wody\n",
      "jest\n",
      "trzecią\n",
      "najbardziej\n",
      "rozpowszechnioną\n",
      "molekułą\n",
      "w\n",
      "ośrodku\n",
      "międzygwiazdowym,\n",
      "po\n",
      "cząsteczkowym\n",
      "wodorze\n",
      "i\n",
      "tlenku\n",
      "węgla.\n",
      "<eos>\n"
     ]
    }
   ],
   "source": [
    "segmentator = Segmentator(text)\n",
    "segmentator.segment()\n",
    "segmentator.print()"
   ]
  },
  {
   "cell_type": "code",
   "execution_count": null,
   "metadata": {},
   "outputs": [],
   "source": []
  }
 ],
 "metadata": {
  "kernelspec": {
   "display_name": "Python 3",
   "language": "python",
   "name": "python3"
  },
  "language_info": {
   "codemirror_mode": {
    "name": "ipython",
    "version": 3
   },
   "file_extension": ".py",
   "mimetype": "text/x-python",
   "name": "python",
   "nbconvert_exporter": "python",
   "pygments_lexer": "ipython3",
   "version": "3.7.6"
  }
 },
 "nbformat": 4,
 "nbformat_minor": 4
}
